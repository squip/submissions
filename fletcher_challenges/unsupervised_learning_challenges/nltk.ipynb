{
 "metadata": {
  "name": "",
  "signature": "sha256:714aaf8e72160e94b384346a1152e0763e3304b6ec93786a3b32320c8a09ceea"
 },
 "nbformat": 3,
 "nbformat_minor": 0,
 "worksheets": [
  {
   "cells": [
    {
     "cell_type": "markdown",
     "metadata": {},
     "source": [
      "### Sentence tokenization"
     ]
    },
    {
     "cell_type": "code",
     "collapsed": false,
     "input": [
      "# pip install nltk\n",
      "from nltk.tokenize import sent_tokenize\n",
      "\n",
      "text = \"Hello. How are you, dear sir? Are you well? Here: drink this! It will make you feel better.\"\n",
      "\n",
      "sentences = sent_tokenize(text)\n",
      "sentences"
     ],
     "language": "python",
     "metadata": {},
     "outputs": [
      {
       "metadata": {},
       "output_type": "pyout",
       "prompt_number": 3,
       "text": [
        "['Hello.',\n",
        " 'How are you, dear sir?',\n",
        " 'Are you well?',\n",
        " 'Here: drink this!',\n",
        " 'It will make you feel better.']"
       ]
      }
     ],
     "prompt_number": 3
    },
    {
     "cell_type": "code",
     "collapsed": false,
     "input": [
      "gross_text = \"Hi, this is my dick. I present it to you. Put it inside your mouth and drink my semen.\"\n",
      "\n",
      "gross_senetences = sent_tokenize(gross_text)\n",
      "for sentence in gross_senetences:\n",
      "    print sentence"
     ],
     "language": "python",
     "metadata": {},
     "outputs": [
      {
       "output_type": "stream",
       "stream": "stdout",
       "text": [
        "Hi, this is my dick.\n",
        "I present it to you.\n",
        "Put it inside your mouth and drink my semen.\n"
       ]
      }
     ],
     "prompt_number": 4
    },
    {
     "cell_type": "markdown",
     "metadata": {},
     "source": [
      "### Word tokenization"
     ]
    },
    {
     "cell_type": "code",
     "collapsed": false,
     "input": [
      "from nltk.tokenize import TreebankWordTokenizer\n",
      "tokenizer = TreebankWordTokenizer()\n",
      "tokenizer.tokenize(gross_senetences[2])"
     ],
     "language": "python",
     "metadata": {},
     "outputs": [
      {
       "metadata": {},
       "output_type": "pyout",
       "prompt_number": 5,
       "text": [
        "['Put', 'it', 'inside', 'your', 'mouth', 'and', 'drink', 'my', 'semen', '.']"
       ]
      }
     ],
     "prompt_number": 5
    },
    {
     "cell_type": "code",
     "collapsed": false,
     "input": [
      "from nltk.tokenize import word_tokenize\n",
      "words = word_tokenize(sentences[4])\n",
      "words"
     ],
     "language": "python",
     "metadata": {},
     "outputs": [
      {
       "metadata": {},
       "output_type": "pyout",
       "prompt_number": 6,
       "text": [
        "['It', 'will', 'make', 'you', 'feel', 'better', '.']"
       ]
      }
     ],
     "prompt_number": 6
    },
    {
     "cell_type": "code",
     "collapsed": false,
     "input": [
      "from nltk.tokenize import word_tokenize\n",
      "words = word_tokenize(gross_senetences[2])\n",
      "words"
     ],
     "language": "python",
     "metadata": {},
     "outputs": [
      {
       "metadata": {},
       "output_type": "pyout",
       "prompt_number": 7,
       "text": [
        "['Put', 'it', 'inside', 'your', 'mouth', 'and', 'drink', 'my', 'semen', '.']"
       ]
      }
     ],
     "prompt_number": 7
    },
    {
     "cell_type": "markdown",
     "metadata": {},
     "source": [
      "### When you say \"word\"..."
     ]
    },
    {
     "cell_type": "code",
     "collapsed": false,
     "input": [
      "word_tokenize(sentences[3])"
     ],
     "language": "python",
     "metadata": {},
     "outputs": [
      {
       "metadata": {},
       "output_type": "pyout",
       "prompt_number": 8,
       "text": [
        "['Here', ':', 'drink', 'this', '!']"
       ]
      }
     ],
     "prompt_number": 8
    },
    {
     "cell_type": "code",
     "collapsed": false,
     "input": [
      "word_tokenize(\"Hey! Is someone going to do this damn thing or what?\")"
     ],
     "language": "python",
     "metadata": {},
     "outputs": [
      {
       "metadata": {},
       "output_type": "pyout",
       "prompt_number": 9,
       "text": [
        "['Hey',\n",
        " '!',\n",
        " 'Is',\n",
        " 'someone',\n",
        " 'going',\n",
        " 'to',\n",
        " 'do',\n",
        " 'this',\n",
        " 'damn',\n",
        " 'thing',\n",
        " 'or',\n",
        " 'what',\n",
        " '?']"
       ]
      }
     ],
     "prompt_number": 9
    },
    {
     "cell_type": "code",
     "collapsed": false,
     "input": [
      "word_tokenize(\"Who's going to that thing today?\")"
     ],
     "language": "python",
     "metadata": {},
     "outputs": [
      {
       "metadata": {},
       "output_type": "pyout",
       "prompt_number": 23,
       "text": [
        "['Who', \"'s\", 'going', 'to', 'that', 'thing', 'today', '?']"
       ]
      }
     ],
     "prompt_number": 23
    },
    {
     "cell_type": "code",
     "collapsed": false,
     "input": [
      "from nltk.tokenize import wordpunct_tokenize\n",
      "wordpunct_tokenize(\"Who's going to that thing today?\")"
     ],
     "language": "python",
     "metadata": {},
     "outputs": [
      {
       "metadata": {},
       "output_type": "pyout",
       "prompt_number": 22,
       "text": [
        "['Who', \"'\", 's', 'going', 'to', 'that', 'thing', 'today', '?']"
       ]
      }
     ],
     "prompt_number": 22
    },
    {
     "cell_type": "markdown",
     "metadata": {},
     "source": [
      "Demo of different tokenizers: http://text-processing.com/demo/tokenize/"
     ]
    },
    {
     "cell_type": "markdown",
     "metadata": {},
     "source": [
      "### Part of speech tagging"
     ]
    },
    {
     "cell_type": "code",
     "collapsed": false,
     "input": [
      "from nltk.tag import pos_tag\n",
      "words = word_tokenize(\"Who's going to that thing today?\")\n",
      "pos_tag(words)"
     ],
     "language": "python",
     "metadata": {},
     "outputs": [
      {
       "metadata": {},
       "output_type": "pyout",
       "prompt_number": 11,
       "text": [
        "[('Who', 'WP'),\n",
        " (\"'s\", 'VBZ'),\n",
        " ('going', 'VBG'),\n",
        " ('to', 'TO'),\n",
        " ('that', 'DT'),\n",
        " ('thing', 'NN'),\n",
        " ('today', 'NN'),\n",
        " ('?', '.')]"
       ]
      }
     ],
     "prompt_number": 11
    },
    {
     "cell_type": "markdown",
     "metadata": {},
     "source": [
      "WP: wh-pronoun (\"who\", \"what\")  \n",
      "VBZ: verb, 3rd person sing. present (\"takes\")  \n",
      "VBG: verb, gerund/present participle (\"taking\")  \n",
      "TO: to (\"to go\", \"to him\")   \n",
      "DT: determiner (\"the\", \"this\")  \n",
      "NN: noun, singular or mass (\"door\")  \n",
      ".: Punctuation (\".\", \"?\")  \n",
      "\n",
      "All tags: http://www.monlp.com/2011/11/08/part-of-speech-tags/"
     ]
    },
    {
     "cell_type": "code",
     "collapsed": false,
     "input": [
      "wordz = word_tokenize(\"Can you taste this sauce? Who's gonna taste this sauce? You'll love this guy's sauce!\")\n",
      "pos_tag(wordz)"
     ],
     "language": "python",
     "metadata": {},
     "outputs": [
      {
       "metadata": {},
       "output_type": "pyout",
       "prompt_number": 26,
       "text": [
        "[('Can', 'NNP'),\n",
        " ('you', 'PRP'),\n",
        " ('taste', 'VBP'),\n",
        " ('this', 'DT'),\n",
        " ('sauce', 'NN'),\n",
        " ('?', '.'),\n",
        " ('Who', 'WP'),\n",
        " (\"'s\", 'VBZ'),\n",
        " ('gon', 'VBP'),\n",
        " ('na', 'NN'),\n",
        " ('taste', 'NN'),\n",
        " ('this', 'DT'),\n",
        " ('sauce', 'NN'),\n",
        " ('?', '.'),\n",
        " ('You', 'PRP'),\n",
        " (\"'ll\", 'MD'),\n",
        " ('love', 'VB'),\n",
        " ('this', 'DT'),\n",
        " ('guy', 'NN'),\n",
        " (\"'s\", 'POS'),\n",
        " ('sauce', 'NN'),\n",
        " ('!', '.')]"
       ]
      }
     ],
     "prompt_number": 26
    },
    {
     "cell_type": "markdown",
     "metadata": {},
     "source": [
      "Part of speech allows you to focus on different parts of language.  \n",
      "You may want to find keywords only among verbs, for example.  \n",
      "Or when you are classifying, you may want to use nouns and adjectives as features, because they carry the most information about the subject (compared to who tags like WP, or TO, etc.) Part of speech can allow you to do higher resolution text analysis."
     ]
    },
    {
     "cell_type": "markdown",
     "metadata": {},
     "source": [
      "### Chunking\n",
      "Extracting phrases"
     ]
    },
    {
     "cell_type": "code",
     "collapsed": false,
     "input": [
      "import nltk\n",
      "nltk.download()"
     ],
     "language": "python",
     "metadata": {},
     "outputs": []
    },
    {
     "cell_type": "code",
     "collapsed": false,
     "input": [
      "import nltk\n",
      "from nltk.chunk import ne_chunk\n",
      "words = word_tokenize(\"I'm Irmak Sirer and I'm here to teach you NLTK today.\")\n",
      "tags = pos_tag(words)\n",
      "tree = ne_chunk(tags)\n",
      "print tree"
     ],
     "language": "python",
     "metadata": {},
     "outputs": [
      {
       "output_type": "stream",
       "stream": "stdout",
       "text": [
        "(S\n",
        "  I/PRP\n",
        "  'm/VBP\n",
        "  (PERSON Irmak/NNP Sirer/NNP)\n",
        "  and/CC\n",
        "  I/PRP\n",
        "  'm/VBP\n",
        "  here/RB\n",
        "  to/TO\n",
        "  teach/VB\n",
        "  you/PRP\n",
        "  (ORGANIZATION NLTK/NNP)\n",
        "  today/NN\n",
        "  ./.)\n"
       ]
      }
     ],
     "prompt_number": 13
    },
    {
     "cell_type": "code",
     "collapsed": false,
     "input": [
      "tree.draw()"
     ],
     "language": "python",
     "metadata": {},
     "outputs": [],
     "prompt_number": 14
    },
    {
     "cell_type": "markdown",
     "metadata": {},
     "source": [
      "### Included text corpora\n",
      "movie_reviews: Imdb reviews characterized as pos & neg  \n",
      "treebank: tagged and parsed Wall Street Journal text  \n",
      "treebank_chunk: tagged and chunked WSJ text  \n",
      "brown: tagged & categorized English text (news, fiction, etc)  \n",
      "60 others  "
     ]
    },
    {
     "cell_type": "code",
     "collapsed": false,
     "input": [
      "#nltk.download()\n",
      "from nltk.corpus import treebank_chunk\n",
      "treebank_chunk.tagged_sents()[0]"
     ],
     "language": "python",
     "metadata": {},
     "outputs": [
      {
       "metadata": {},
       "output_type": "pyout",
       "prompt_number": 16,
       "text": [
        "[(u'Pierre', u'NNP'),\n",
        " (u'Vinken', u'NNP'),\n",
        " (u',', u','),\n",
        " (u'61', u'CD'),\n",
        " (u'years', u'NNS'),\n",
        " (u'old', u'JJ'),\n",
        " (u',', u','),\n",
        " (u'will', u'MD'),\n",
        " (u'join', u'VB'),\n",
        " (u'the', u'DT'),\n",
        " (u'board', u'NN'),\n",
        " (u'as', u'IN'),\n",
        " (u'a', u'DT'),\n",
        " (u'nonexecutive', u'JJ'),\n",
        " (u'director', u'NN'),\n",
        " (u'Nov.', u'NNP'),\n",
        " (u'29', u'CD'),\n",
        " (u'.', u'.')]"
       ]
      }
     ],
     "prompt_number": 16
    },
    {
     "cell_type": "code",
     "collapsed": false,
     "input": [
      "treebank_chunk.chunked_sents()[0].draw()"
     ],
     "language": "python",
     "metadata": {},
     "outputs": [],
     "prompt_number": 17
    },
    {
     "cell_type": "markdown",
     "metadata": {},
     "source": [
      "# TextBlob"
     ]
    },
    {
     "cell_type": "code",
     "collapsed": false,
     "input": [
      "# pip install textblob\n",
      "from textblob import TextBlob\n",
      "\n",
      "GATSBY_TEXT = \"\"\"In my younger and more vulnerable years my father gave me some advice that \n",
      "I've been turning over in my mind ever since. \"Whenever you feel like criticizing any one,\" \n",
      "he told me, \"I love you darling. YOu are my love. You are my happiness. Happy. Yes! Happy as can be.\"\"\"\"\"\n",
      "\n",
      "gatsby = TextBlob(GATSBY_TEXT)"
     ],
     "language": "python",
     "metadata": {},
     "outputs": [],
     "prompt_number": 27
    },
    {
     "cell_type": "code",
     "collapsed": false,
     "input": [
      "gatsby.tags"
     ],
     "language": "python",
     "metadata": {},
     "outputs": [
      {
       "metadata": {},
       "output_type": "pyout",
       "prompt_number": 28,
       "text": [
        "[(u'In', u'IN'),\n",
        " (u'my', u'PRP$'),\n",
        " (u'younger', u'JJR'),\n",
        " (u'and', u'CC'),\n",
        " (u'more', u'JJR'),\n",
        " (u'vulnerable', u'JJ'),\n",
        " (u'years', u'NNS'),\n",
        " (u'my', u'PRP$'),\n",
        " (u'father', u'NN'),\n",
        " (u'gave', u'VBD'),\n",
        " (u'me', u'PRP'),\n",
        " (u'some', u'DT'),\n",
        " (u'advice', u'NN'),\n",
        " (u'that', u'IN'),\n",
        " (u'I', u'PRP'),\n",
        " (u\"'\", u'POS'),\n",
        " (u've', u'NN'),\n",
        " (u'been', u'VBN'),\n",
        " (u'turning', u'VBG'),\n",
        " (u'over', u'IN'),\n",
        " (u'in', u'IN'),\n",
        " (u'my', u'PRP$'),\n",
        " (u'mind', u'NN'),\n",
        " (u'ever', u'RB'),\n",
        " (u'since', u'IN'),\n",
        " (u'Whenever', u'WRB'),\n",
        " (u'you', u'PRP'),\n",
        " (u'feel', u'VB'),\n",
        " (u'like', u'IN'),\n",
        " (u'criticizing', u'VBG'),\n",
        " (u'any', u'DT'),\n",
        " (u'one', u'CD'),\n",
        " (u'he', u'PRP'),\n",
        " (u'told', u'VBD'),\n",
        " (u'me', u'PRP'),\n",
        " (u'I', u'PRP'),\n",
        " (u'love', u'NN'),\n",
        " (u'you', u'PRP'),\n",
        " (u'darling', u'NN'),\n",
        " (u'YOu', u'PRP'),\n",
        " (u'are', u'VBP'),\n",
        " (u'my', u'PRP$'),\n",
        " (u'love', u'NN'),\n",
        " (u'You', u'PRP'),\n",
        " (u'are', u'VBP'),\n",
        " (u'my', u'PRP$'),\n",
        " (u'happiness', u'NN'),\n",
        " (u'Happy', u'NNP'),\n",
        " (u'Yes', u'UH'),\n",
        " (u'Happy', u'NNP'),\n",
        " (u'as', u'IN'),\n",
        " (u'can', u'MD'),\n",
        " (u'be', u'VB')]"
       ]
      }
     ],
     "prompt_number": 28
    },
    {
     "cell_type": "code",
     "collapsed": false,
     "input": [
      "gatsby.noun_phrases"
     ],
     "language": "python",
     "metadata": {},
     "outputs": [
      {
       "metadata": {},
       "output_type": "pyout",
       "prompt_number": 29,
       "text": [
        "WordList([u'vulnerable years', 'whenever', 'you', 'happy', 'happy'])"
       ]
      }
     ],
     "prompt_number": 29
    },
    {
     "cell_type": "code",
     "collapsed": false,
     "input": [
      "gatsby.sentiment"
     ],
     "language": "python",
     "metadata": {},
     "outputs": [
      {
       "metadata": {},
       "output_type": "pyout",
       "prompt_number": 30,
       "text": [
        "Sentiment(polarity=0.4375, subjectivity=0.55)"
       ]
      }
     ],
     "prompt_number": 30
    },
    {
     "cell_type": "code",
     "collapsed": false,
     "input": [
      "TextBlob(\"Oh my god I love this bootcamp, it's so awesome.\").sentiment"
     ],
     "language": "python",
     "metadata": {},
     "outputs": [
      {
       "metadata": {},
       "output_type": "pyout",
       "prompt_number": 33,
       "text": [
        "Sentiment(polarity=0.75, subjectivity=0.8)"
       ]
      }
     ],
     "prompt_number": 33
    },
    {
     "cell_type": "code",
     "collapsed": false,
     "input": [
      "TextBlob(\"Cupcakes are the worst.\").sentiment"
     ],
     "language": "python",
     "metadata": {},
     "outputs": [
      {
       "metadata": {},
       "output_type": "pyout",
       "prompt_number": 34,
       "text": [
        "Sentiment(polarity=-1.0, subjectivity=1.0)"
       ]
      }
     ],
     "prompt_number": 34
    },
    {
     "cell_type": "code",
     "collapsed": false,
     "input": [
      "TextBlob(\"The color of this car is blue\").sentiment"
     ],
     "language": "python",
     "metadata": {},
     "outputs": [
      {
       "metadata": {},
       "output_type": "pyout",
       "prompt_number": 37,
       "text": [
        "Sentiment(polarity=0.0, subjectivity=0.1)"
       ]
      }
     ],
     "prompt_number": 37
    },
    {
     "cell_type": "code",
     "collapsed": false,
     "input": [
      "TextBlob(\"The color of this car is ugly\").sentiment"
     ],
     "language": "python",
     "metadata": {},
     "outputs": [
      {
       "metadata": {},
       "output_type": "pyout",
       "prompt_number": 36,
       "text": [
        "Sentiment(polarity=-0.7, subjectivity=1.0)"
       ]
      }
     ],
     "prompt_number": 36
    },
    {
     "cell_type": "code",
     "collapsed": false,
     "input": [
      "print TextBlob(\"I hate cupcakes.\").sentiment.polarity"
     ],
     "language": "python",
     "metadata": {},
     "outputs": [
      {
       "output_type": "stream",
       "stream": "stdout",
       "text": [
        "-0.8\n"
       ]
      }
     ],
     "prompt_number": 110
    },
    {
     "cell_type": "code",
     "collapsed": false,
     "input": [
      "print TextBlob(\"I hate cupcakes.\").sentiment.subjectivity"
     ],
     "language": "python",
     "metadata": {},
     "outputs": [
      {
       "output_type": "stream",
       "stream": "stdout",
       "text": [
        "0.9\n"
       ]
      }
     ],
     "prompt_number": 70
    },
    {
     "cell_type": "code",
     "collapsed": false,
     "input": [
      "gatsby.sentences"
     ],
     "language": "python",
     "metadata": {},
     "outputs": [
      {
       "metadata": {},
       "output_type": "pyout",
       "prompt_number": 71,
       "text": [
        "[Sentence(\"In my younger and more vulnerable years my father gave me some advice that \n",
        " I've been turning over in my mind ever since.\"),\n",
        " Sentence(\"\"Whenever you feel like criticizing any one,\" \n",
        " he told me, \"blah blah, blah blah blah.\")]"
       ]
      }
     ],
     "prompt_number": 71
    },
    {
     "cell_type": "code",
     "collapsed": false,
     "input": [
      "gatsby.words"
     ],
     "language": "python",
     "metadata": {},
     "outputs": [
      {
       "metadata": {},
       "output_type": "pyout",
       "prompt_number": 72,
       "text": [
        "WordList(['In', 'my', 'younger', 'and', 'more', 'vulnerable', 'years', 'my', 'father', 'gave', 'me', 'some', 'advice', 'that', 'I', \"'ve\", 'been', 'turning', 'over', 'in', 'my', 'mind', 'ever', 'since', 'Whenever', 'you', 'feel', 'like', 'criticizing', 'any', 'one', 'he', 'told', 'me', 'blah', 'blah', 'blah', 'blah', 'blah'])"
       ]
      }
     ],
     "prompt_number": 72
    },
    {
     "cell_type": "code",
     "collapsed": false,
     "input": [
      "gatsby.sentences[0].words"
     ],
     "language": "python",
     "metadata": {},
     "outputs": [
      {
       "metadata": {},
       "output_type": "pyout",
       "prompt_number": 73,
       "text": [
        "WordList(['In', 'my', 'younger', 'and', 'more', 'vulnerable', 'years', 'my', 'father', 'gave', 'me', 'some', 'advice', 'that', 'I', \"'ve\", 'been', 'turning', 'over', 'in', 'my', 'mind', 'ever', 'since'])"
       ]
      }
     ],
     "prompt_number": 73
    },
    {
     "cell_type": "markdown",
     "metadata": {},
     "source": [
      "#### Stemming"
     ]
    },
    {
     "cell_type": "code",
     "collapsed": false,
     "input": [
      "stemmer = nltk.stem.porter.PorterStemmer()\n",
      "for word in TextBlob(\"I was going to go to many places\").words:\n",
      "    print stemmer.stem(word)"
     ],
     "language": "python",
     "metadata": {},
     "outputs": [
      {
       "output_type": "stream",
       "stream": "stdout",
       "text": [
        "I\n",
        "wa\n",
        "go\n",
        "to\n",
        "go\n",
        "to\n",
        "mani\n",
        "place\n"
       ]
      }
     ],
     "prompt_number": 30
    },
    {
     "cell_type": "markdown",
     "metadata": {},
     "source": [
      "To see different nltk stemmers in effect:\n",
      "http://text-processing.com/demo/stem/"
     ]
    },
    {
     "cell_type": "code",
     "collapsed": false,
     "input": [
      "for word, count in gatsby.word_counts.items():\n",
      "    print \"%15s %i\" % (word, count)"
     ],
     "language": "python",
     "metadata": {},
     "outputs": [
      {
       "output_type": "stream",
       "stream": "stdout",
       "text": [
        "            and 1\n",
        "           love 2\n",
        "             ve 1\n",
        "           feel 1\n",
        "           over 1\n",
        "           mind 1\n",
        "          years 1\n",
        "             as 1\n",
        "            are 2\n",
        "             in 2\n",
        "            yes 1\n",
        "            any 1\n",
        "     vulnerable 1\n",
        "          happy 2\n",
        "          since 1\n",
        "         father 1\n",
        "           been 1\n",
        "      happiness 1\n",
        "            you 4\n",
        "           ever 1\n",
        "           gave 1\n",
        "             be 1\n",
        "        turning 1\n",
        "           that 1\n",
        "           some 1\n",
        "         advice 1\n",
        "            one 1\n",
        "        darling 1\n",
        "             he 1\n",
        "             me 2\n",
        "        younger 1\n",
        "           like 1\n",
        "              i 2\n",
        "           told 1\n",
        "       whenever 1\n",
        "            can 1\n",
        "    criticizing 1\n",
        "           more 1\n",
        "             my 5\n"
       ]
      }
     ],
     "prompt_number": 38
    },
    {
     "cell_type": "code",
     "collapsed": false,
     "input": [
      "def get_count(item):\n",
      "    return item[1]\n",
      "for word, count in sorted(gatsby.word_counts.items(), key=get_count, reverse=True):\n",
      "    print \"%15s %i\" % (word, count)"
     ],
     "language": "python",
     "metadata": {},
     "outputs": [
      {
       "output_type": "stream",
       "stream": "stdout",
       "text": [
        "           blah 5\n",
        "             my 3\n",
        "             in 2\n",
        "             me 2\n",
        "            and 1\n",
        "             ve 1\n",
        "           feel 1\n",
        "           over 1\n",
        "           mind 1\n",
        "          years 1\n",
        "            any 1\n",
        "     vulnerable 1\n",
        "          since 1\n",
        "         father 1\n",
        "           been 1\n",
        "            you 1\n",
        "           ever 1\n",
        "           gave 1\n",
        "        turning 1\n",
        "           that 1\n",
        "           some 1\n",
        "         advice 1\n",
        "            one 1\n",
        "             he 1\n",
        "        younger 1\n",
        "           like 1\n",
        "              i 1\n",
        "           told 1\n",
        "       whenever 1\n",
        "    criticizing 1\n",
        "           more 1\n"
       ]
      }
     ],
     "prompt_number": 74
    },
    {
     "cell_type": "markdown",
     "metadata": {},
     "source": [
      "### Looking at tweets"
     ]
    },
    {
     "cell_type": "code",
     "collapsed": false,
     "input": [
      "import pymongo\n",
      "from pprint import pprint\n",
      "client = pymongo.MongoClient()\n",
      "db = client.dsbc"
     ],
     "language": "python",
     "metadata": {},
     "outputs": [],
     "prompt_number": 75
    },
    {
     "cell_type": "code",
     "collapsed": false,
     "input": [
      "print db.bitcointweets.find().count()"
     ],
     "language": "python",
     "metadata": {},
     "outputs": [
      {
       "output_type": "stream",
       "stream": "stdout",
       "text": [
        "2610\n"
       ]
      }
     ],
     "prompt_number": 76
    },
    {
     "cell_type": "code",
     "collapsed": false,
     "input": [
      "tweet = db.bitcointweets.find_one({\"favorites\": {\"$gte\": 5}})\n",
      "pprint(tweet)"
     ],
     "language": "python",
     "metadata": {},
     "outputs": [
      {
       "output_type": "stream",
       "stream": "stdout",
       "text": [
        "{u'_id': ObjectId('543ee4ce498d9804c1808c38'),\n",
        " u'favorites': 8,\n",
        " u'fullname': u'Michigan Bitcoiners',\n",
        " u'retweets': 6,\n",
        " u'text': u'#Bitcoin meetup in A2 at 6pm tonight and Farmington Hills tomorrow at 7pm with @TXCoinitiative and @cryptowomen http://t.co/MNYHvU0m1Z',\n",
        " u'time': datetime.datetime(2014, 10, 15, 20, 55, 49),\n",
        " u'user': u'MIBitcoiners'}\n"
       ]
      }
     ],
     "prompt_number": 77
    },
    {
     "cell_type": "code",
     "collapsed": false,
     "input": [
      "TextBlob(tweet['text']).words"
     ],
     "language": "python",
     "metadata": {},
     "outputs": [
      {
       "metadata": {},
       "output_type": "pyout",
       "prompt_number": 55,
       "text": [
        "WordList([u'Bitcoin', u'meetup', u'in', u'A2', u'at', u'6pm', u'tonight', u'and', u'Farmington', u'Hills', u'tomorrow', u'at', u'7pm', u'with', u'TXCoinitiative', u'and', u'cryptowomen', u'http', u't.co/MNYHvU0m1Z'])"
       ]
      }
     ],
     "prompt_number": 55
    },
    {
     "cell_type": "markdown",
     "metadata": {},
     "source": [
      "#####Word counts in bitcoin tweets"
     ]
    },
    {
     "cell_type": "code",
     "collapsed": false,
     "input": [
      "all_text = \"\"\n",
      "for tweet in db.bitcointweets.find().limit(100):\n",
      "    all_text += tweet[\"text\"] + \"\\n\"\n",
      "    \n",
      "for word, count in sorted(TextBlob(all_text).word_counts.items(), key=get_count, reverse=True)[:15]:\n",
      "    print \"%15s %i\" % (word, count)"
     ],
     "language": "python",
     "metadata": {},
     "outputs": [
      {
       "output_type": "stream",
       "stream": "stdout",
       "text": [
        "        bitcoin 128\n",
        "           http 88\n",
        "           news 29\n",
        "             rt 23\n",
        "              a 19\n",
        "            the 18\n",
        "      potential 16\n",
        "             to 15\n",
        "            and 15\n",
        "            btc 15\n",
        "            for 15\n",
        "       dogecoin 14\n",
        "t.co/zgugkul0vy 14\n",
        "             in 14\n",
        "          money 14\n"
       ]
      }
     ],
     "prompt_number": 78
    },
    {
     "cell_type": "markdown",
     "metadata": {},
     "source": [
      "##### Without stopwords"
     ]
    },
    {
     "cell_type": "code",
     "collapsed": false,
     "input": [
      "#nltk.download()\n",
      "from nltk.corpus import stopwords\n",
      "stop = stopwords.words('english')\n",
      "\n",
      "all_text = \"\"\n",
      "for tweet in db.bitcointweets.find().limit(100):\n",
      "    all_text += tweet[\"text\"] + \"\\n\"\n",
      "    \n",
      "for word, count in sorted(TextBlob(all_text).word_counts.items(), key=get_count, reverse=True)[:20]:\n",
      "    if word not in stop:\n",
      "        print \"%15s %i\" % (word, count)"
     ],
     "language": "python",
     "metadata": {},
     "outputs": [
      {
       "output_type": "stream",
       "stream": "stdout",
       "text": [
        "        bitcoin 128\n",
        "           http 88\n",
        "           news 29\n",
        "             rt 23\n",
        "      potential 16\n",
        "            btc 15\n",
        "       dogecoin 14\n",
        "t.co/zgugkul0vy 14\n",
        "          money 14\n",
        "   class-action 13\n",
        "           suit 12\n",
        "             tl 11\n",
        "           free 11\n",
        "       kncminer 11\n"
       ]
      }
     ],
     "prompt_number": 79
    },
    {
     "cell_type": "markdown",
     "metadata": {},
     "source": [
      "### Movie Reviews"
     ]
    },
    {
     "cell_type": "code",
     "collapsed": false,
     "input": [
      "#nltk.download()\n",
      "import nltk\n",
      "from textblob import TextBlob\n",
      "from nltk.corpus import movie_reviews\n",
      "\n",
      "fileids = movie_reviews.fileids()[:100]\n",
      "doc_words = [movie_reviews.words(fileid) for fileid in fileids]\n",
      "documents = [' '.join(words) for words in doc_words]\n",
      "print documents[:3]"
     ],
     "language": "python",
     "metadata": {},
     "outputs": [
      {
       "output_type": "stream",
       "stream": "stdout",
       "text": [
        "[u'plot : two teen couples go to a church party , drink and then drive . they get into an accident . one of the guys dies , but his girlfriend continues to see him in her life , and has nightmares . what \\' s the deal ? watch the movie and \" sorta \" find out . . . critique : a mind - fuck movie for the teen generation that touches on a very cool idea , but presents it in a very bad package . which is what makes this review an even harder one to write , since i generally applaud films which attempt to break the mold , mess with your head and such ( lost highway & memento ) , but there are good and bad ways of making all types of films , and these folks just didn \\' t snag this one correctly . they seem to have taken this pretty neat concept , but executed it terribly . so what are the problems with the movie ? well , its main problem is that it \\' s simply too jumbled . it starts off \" normal \" but then downshifts into this \" fantasy \" world in which you , as an audience member , have no idea what \\' s going on . there are dreams , there are characters coming back from the dead , there are others who look like the dead , there are strange apparitions , there are disappearances , there are a looooot of chase scenes , there are tons of weird things that happen , and most of it is simply not explained . now i personally don \\' t mind trying to unravel a film every now and then , but when all it does is give me the same clue over and over again , i get kind of fed up after a while , which is this film \\' s biggest problem . it \\' s obviously got this big secret to hide , but it seems to want to hide it completely until its final five minutes . and do they make things entertaining , thrilling or even engaging , in the meantime ? not really . the sad part is that the arrow and i both dig on flicks like this , so we actually figured most of it out by the half - way point , so all of the strangeness after that did start to make a little bit of sense , but it still didn \\' t the make the film all that more entertaining . i guess the bottom line with movies like this is that you should always make sure that the audience is \" into it \" even before they are given the secret password to enter your world of understanding . i mean , showing melissa sagemiller running away from visions for about 20 minutes throughout the movie is just plain lazy ! ! okay , we get it . . . there are people chasing her and we don \\' t know who they are . do we really need to see it over and over again ? how about giving us different scenes offering further insight into all of the strangeness going down in the movie ? apparently , the studio took this film away from its director and chopped it up themselves , and it shows . there might \\' ve been a pretty decent teen mind - fuck movie in here somewhere , but i guess \" the suits \" decided that turning it into a music video with little edge , would make more sense . the actors are pretty good for the most part , although wes bentley just seemed to be playing the exact same character that he did in american beauty , only in a new neighborhood . but my biggest kudos go out to sagemiller , who holds her own throughout the entire film , and actually has you feeling her character \\' s unraveling . overall , the film doesn \\' t stick because it doesn \\' t entertain , it \\' s confusing , it rarely excites and it feels pretty redundant for most of its runtime , despite a pretty cool ending and explanation to all of the craziness that came before it . oh , and by the way , this is not a horror or teen slasher flick . . . it \\' s just packaged to look that way because someone is apparently assuming that the genre is still hot with the kids . it also wrapped production two years ago and has been sitting on the shelves ever since . whatever . . . skip it ! where \\' s joblo coming from ? a nightmare of elm street 3 ( 7 / 10 ) - blair witch 2 ( 7 / 10 ) - the crow ( 9 / 10 ) - the crow : salvation ( 4 / 10 ) - lost highway ( 10 / 10 ) - memento ( 10 / 10 ) - the others ( 9 / 10 ) - stir of echoes ( 8 / 10 )', u'the happy bastard \\' s quick movie review damn that y2k bug . it \\' s got a head start in this movie starring jamie lee curtis and another baldwin brother ( william this time ) in a story regarding a crew of a tugboat that comes across a deserted russian tech ship that has a strangeness to it when they kick the power back on . little do they know the power within . . . going for the gore and bringing on a few action sequences here and there , virus still feels very empty , like a movie going for all flash and no substance . we don \\' t know why the crew was really out in the middle of nowhere , we don \\' t know the origin of what took over the ship ( just that a big pink flashy thing hit the mir ) , and , of course , we don \\' t know why donald sutherland is stumbling around drunkenly throughout . here , it \\' s just \" hey , let \\' s chase these people around with some robots \" . the acting is below average , even from the likes of curtis . you \\' re more likely to get a kick out of her work in halloween h20 . sutherland is wasted and baldwin , well , he \\' s acting like a baldwin , of course . the real star here are stan winston \\' s robot design , some schnazzy cgi , and the occasional good gore shot , like picking into someone \\' s brain . so , if robots and body parts really turn you on , here \\' s your movie . otherwise , it \\' s pretty much a sunken ship of a movie .', u\"it is movies like these that make a jaded movie viewer thankful for the invention of the timex indiglo watch . based on the late 1960 ' s television show by the same name , the mod squad tells the tale of three reformed criminals under the employ of the police to go undercover . however , things go wrong as evidence gets stolen and they are immediately under suspicion . of course , the ads make it seem like so much more . quick cuts , cool music , claire dane ' s nice hair and cute outfits , car chases , stuff blowing up , and the like . sounds like a cool movie , does it not ? after the first fifteen minutes , it quickly becomes apparent that it is not . the mod squad is certainly a slick looking production , complete with nice hair and costumes , but that simply isn ' t enough . the film is best described as a cross between an hour - long cop show and a music video , both stretched out into the span of an hour and a half . and with it comes every single clich ? . it doesn ' t really matter that the film is based on a television show , as most of the plot elements have been recycled from everything we ' ve already seen . the characters and acting is nothing spectacular , sometimes even bordering on wooden . claire danes and omar epps deliver their lines as if they are bored , which really transfers onto the audience . the only one to escape relatively unscathed is giovanni ribisi , who plays the resident crazy man , ultimately being the only thing worth watching . unfortunately , even he ' s not enough to save this convoluted mess , as all the characters don ' t do much apart from occupying screen time . with the young cast , cool clothes , nice hair , and hip soundtrack , it appears that the film is geared towards the teenage mindset . despite an american ' r ' rating ( which the content does not justify ) , the film is way too juvenile for the older mindset . information on the characters is literally spoon - fed to the audience ( would it be that hard to show us instead of telling us ? ) , dialogue is poorly written , and the plot is extremely predictable . the way the film progresses , you likely won ' t even care if the heroes are in any jeopardy , because you ' ll know they aren ' t . basing the show on a 1960 ' s television show that nobody remembers is of questionable wisdom , especially when one considers the target audience and the fact that the number of memorable films based on television shows can be counted on one hand ( even one that ' s missing a finger or two ) . the number of times that i checked my watch ( six ) is a clear indication that this film is not one of them . it is clear that the film is nothing more than an attempt to cash in on the teenage spending dollar , judging from the rash of really awful teen - flicks that we ' ve been seeing as of late . avoid this film at all costs .\"]\n"
       ]
      }
     ],
     "prompt_number": 7
    },
    {
     "cell_type": "markdown",
     "metadata": {},
     "source": [
      "##### Top bigrams in reviews"
     ]
    },
    {
     "cell_type": "code",
     "collapsed": false,
     "input": [
      "from nltk.util import ngrams\n",
      "from nltk.tokenize import sent_tokenize, word_tokenize\n",
      "\n",
      "from collections import defaultdict\n",
      "from operator import itemgetter\n",
      "\n",
      "from nltk.corpus import stopwords\n",
      "stop = stopwords.words('english')\n",
      "stop.append(['.', ',', '(', ')', \"'\", '\"'])\n",
      "\n",
      "counter = defaultdict(int)\n",
      "\n",
      "n = 2\n",
      "for doc in documents:\n",
      "    words = TextBlob(doc).words\n",
      "    words = [w for w in words if w not in stop]\n",
      "    bigrams = ngrams(words, n)\n",
      "    for gram in bigrams:\n",
      "        counter[gram] += 1\n",
      "            \n",
      "for gram, count in sorted(counter.items(), key = itemgetter(1), reverse=True)[:30]:\n",
      "    phrase = \" \".join(gram)\n",
      "    print '%20s %i' % (phrase, count)"
     ],
     "language": "python",
     "metadata": {},
     "outputs": [
      {
       "output_type": "stream",
       "stream": "stdout",
       "text": [
        "     special effects 20\n",
        "         ghosts mars 18\n",
        "         first movie 14\n",
        "         monkey bone 12\n",
        "           prinze jr 12\n",
        "         even though 11\n",
        "           hong kong 11\n",
        "        fight scenes 11\n",
        "           van damme 10\n",
        "             ve seen 10\n",
        "         jackie chan 10\n",
        "         every scene 10\n",
        "            want see 10\n",
        "         movies like 9\n",
        "              sci fi 9\n",
        "            big john 9\n",
        "            must die 9\n",
        "          romeo must 9\n",
        "      john carpenter 8\n",
        "         spice girls 8\n",
        "            one best 8\n",
        "         big gorilla 8\n",
        "           two hours 8\n",
        "         deep impact 8\n",
        "         screen time 8\n",
        "               ho ho 8\n",
        "         action film 8\n",
        "            year old 8\n",
        "         sounds like 8\n",
        "      freddie prinze 8\n"
       ]
      }
     ],
     "prompt_number": 81
    },
    {
     "cell_type": "markdown",
     "metadata": {},
     "source": [
      "### Using Sklearn algorithms with text data"
     ]
    },
    {
     "cell_type": "code",
     "collapsed": false,
     "input": [
      "#### TF: frequency in this document\n",
      "#### IDF: inverse frequency in the corpus\n",
      "\n",
      "import numpy as np\n",
      "from sklearn.feature_extraction.text import TfidfVectorizer\n",
      "from sklearn.naive_bayes import MultinomialNB\n",
      "\n",
      "vectorizer = TfidfVectorizer(stop_words=\"english\", ngram_range=(1,2))\n",
      "doc_vectors = vectorizer.fit_transform(documents)\n",
      "\n",
      "classes = np.array(['pos']*50 + ['neg']*50)\n",
      "\n",
      "\n",
      "model = MultinomialNB().fit(doc_vectors, classes)"
     ],
     "language": "python",
     "metadata": {},
     "outputs": [],
     "prompt_number": 50
    },
    {
     "cell_type": "code",
     "collapsed": false,
     "input": [
      "gatsby_vector = vectorizer.transform([GATSBY_TEXT])\n",
      "model.predict(gatsby_vector)"
     ],
     "language": "python",
     "metadata": {},
     "outputs": [
      {
       "metadata": {},
       "output_type": "pyout",
       "prompt_number": 52,
       "text": [
        "array(['neg'], \n",
        "      dtype='|S3')"
       ]
      }
     ],
     "prompt_number": 52
    }
   ],
   "metadata": {}
  }
 ]
}