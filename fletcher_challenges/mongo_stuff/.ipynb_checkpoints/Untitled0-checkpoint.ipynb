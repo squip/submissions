{
 "metadata": {
  "name": "",
  "signature": "sha256:137c92c245f9a5c00e0d69f00b568953f2fc7f263f26bc9fa0e8da10761e84c3"
 },
 "nbformat": 3,
 "nbformat_minor": 0,
 "worksheets": []
}